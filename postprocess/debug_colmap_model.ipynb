{
 "cells": [
  {
   "cell_type": "code",
   "execution_count": 1,
   "metadata": {},
   "outputs": [],
   "source": [
    "from read_write_model import *\n"
   ]
  },
  {
   "cell_type": "code",
   "execution_count": null,
   "metadata": {},
   "outputs": [],
   "source": [
    "input_path='/home/shared/frontier_data/fnt_802/2024-12-13-10-24-rec001/processed/output_colmap/camera_calibration/aligned/sparse/0'\n",
    "cameras, images_metas_in, points3d_in = read_model(input_path, ext='.bin')"
   ]
  },
  {
   "cell_type": "code",
   "execution_count": 3,
   "metadata": {},
   "outputs": [
    {
     "name": "stdout",
     "output_type": "stream",
     "text": [
      "scale: 0.5232837125971068 \n",
      "rotation: [[ 0.19656648 -0.98048588  0.00301036]\n",
      " [-0.98048151 -0.1965769  -0.00367836]\n",
      " [ 0.00419835 -0.00222857 -0.9999887 ]] \n",
      "translation: [ -0.99153037 -13.4444929    0.31968716]\n"
     ]
    },
    {
     "data": {
      "text/plain": [
       "array([[ 1.02860037e-01, -5.13072290e-01,  1.57527486e-03,\n",
       "        -9.91530366e-01],\n",
       "       [-5.13070005e-01, -1.02865489e-01, -1.92482462e-03,\n",
       "        -1.34444929e+01],\n",
       "       [ 2.19692601e-03, -1.16617187e-03, -5.23277801e-01,\n",
       "         3.19687162e-01],\n",
       "       [ 0.00000000e+00,  0.00000000e+00,  0.00000000e+00,\n",
       "         1.00000000e+00]])"
      ]
     },
     "execution_count": 3,
     "metadata": {},
     "output_type": "execute_result"
    }
   ],
   "source": [
    "# ** transformation to metric scale with evo ** # \n",
    "import json\n",
    "import numpy as np\n",
    "evo_alignment_json = '/home/shared/frontier_data/fnt_802/2024-12-13-10-24-rec001/processed/output_colmap/camera_calibration/aligned/evo_align_results.json'\n",
    "with open(evo_alignment_json, 'r') as f:\n",
    "    evo_align = json.load(f)\n",
    "    scale = evo_align['scale']\n",
    "    rotation = np.array(evo_align['rotation']).reshape(3, 3)\n",
    "    translation = np.array(evo_align['translation'])  \n",
    "    metric_transform = np.eye(4)\n",
    "    metric_transform[:3, :3] = rotation * scale \n",
    "    metric_transform[:3, 3] = translation\n",
    "    print(f\"scale: {scale} \\nrotation: {rotation} \\ntranslation: {translation}\")\n",
    "metric_transform"
   ]
  },
  {
   "cell_type": "code",
   "execution_count": null,
   "metadata": {},
   "outputs": [],
   "source": []
  }
 ],
 "metadata": {
  "kernelspec": {
   "display_name": "base",
   "language": "python",
   "name": "python3"
  },
  "language_info": {
   "codemirror_mode": {
    "name": "ipython",
    "version": 3
   },
   "file_extension": ".py",
   "mimetype": "text/x-python",
   "name": "python",
   "nbconvert_exporter": "python",
   "pygments_lexer": "ipython3",
   "version": "3.8.19"
  }
 },
 "nbformat": 4,
 "nbformat_minor": 2
}
